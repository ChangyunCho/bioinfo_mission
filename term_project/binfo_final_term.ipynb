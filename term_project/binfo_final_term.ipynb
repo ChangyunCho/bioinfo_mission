{
 "cells": [
  {
   "cell_type": "code",
   "execution_count": null,
   "id": "e4b6f980-17e2-45c7-bd9b-22654efe0884",
   "metadata": {},
   "outputs": [],
   "source": [
    "!htseq-count -f bam -r pos -s no -i gene_id -t gene  RNA-siLuc.bam gencode.gtf > siLuc_count.txt"
   ]
  },
  {
   "cell_type": "code",
   "execution_count": null,
   "id": "dd7a99fe-bf95-4cbe-a8ab-b4e4a8438cff",
   "metadata": {},
   "outputs": [],
   "source": [
    "!htseq-count -f bam -r pos -s no -i gene_id -t gene  RNA-siLin28a.bam gencode.gtf > siLin28a_count.txt"
   ]
  },
  {
   "cell_type": "code",
   "execution_count": null,
   "id": "66a53c89-9443-47fd-ae3b-e10bd420cc5f",
   "metadata": {},
   "outputs": [],
   "source": [
    "!grep transcript gencode.gtf | cut -f9 | sed 's/;//g' | sed 's/ /\\t/g' | grep MUSP | cut -f7,8,19,20 | grep MUSP | sed 's/\"//g' | sed 's/\\./\\t/g' | cut -f2,4,7 | uniq > mmu_id_gene.txt"
   ]
  },
  {
   "cell_type": "code",
   "execution_count": 92,
   "id": "3a38e292-e297-4441-b578-663380df1821",
   "metadata": {},
   "outputs": [],
   "source": [
    "import pandas as pd\n",
    "import numpy as np\n",
    "import matplotlib.pyplot as plt"
   ]
  },
  {
   "cell_type": "code",
   "execution_count": 93,
   "id": "89bb06cf-7764-4718-ac63-cdea25758cd3",
   "metadata": {},
   "outputs": [],
   "source": [
    "siluc = pd.read_csv('siLuc_count.txt', header = None, sep = '\\t', names = ['gene_name', 'siluc_counts'])\n",
    "silin28a = pd.read_csv('siLin28a_count.txt', header = None, sep = '\\t', names = ['gene_name', 'silin_counts'])"
   ]
  },
  {
   "cell_type": "code",
   "execution_count": 96,
   "id": "9db6bcff-f826-4781-9649-ee3d1151d0df",
   "metadata": {},
   "outputs": [],
   "source": [
    "mmu = pd.read_csv('mmu_id_gene.txt', header = None, sep = '\\t', names = ['gene_name', 'protein_id']).drop_duplicates().reset_index(drop = True)"
   ]
  },
  {
   "cell_type": "code",
   "execution_count": 97,
   "id": "e930aa54-04b1-4407-b26d-ecbb24162813",
   "metadata": {},
   "outputs": [],
   "source": [
    "siLuc = siluc.iloc[:-5,:]\n",
    "siLuc = siLuc[siLuc['siluc_counts']>=30]\n",
    "siLin28a = silin28a.iloc[:-5,:]\n",
    "siLin28a = siLin28a[siLin28a['silin_counts']>=30]"
   ]
  },
  {
   "cell_type": "code",
   "execution_count": 98,
   "id": "d929bbc7-06c0-4230-99ac-7e28202d326b",
   "metadata": {},
   "outputs": [],
   "source": [
    "counts = pd.merge(siLuc, siLin28a, how = 'left', on ='gene_name')"
   ]
  },
  {
   "cell_type": "code",
   "execution_count": 99,
   "id": "f00a7af3-03ff-4525-a509-3ddfc1d90caf",
   "metadata": {},
   "outputs": [],
   "source": [
    "counts['log_fc'] = np.log2(counts['silin_counts']) - np.log2(counts['siluc_counts'])\n",
    "counts = counts.dropna().reset_index(drop = True)"
   ]
  },
  {
   "cell_type": "code",
   "execution_count": 100,
   "id": "e71bf397-8160-4296-a242-d75c16e94ca7",
   "metadata": {},
   "outputs": [],
   "source": [
    "counts = pd.merge(counts, mmu, how = 'inner', on ='gene_name')"
   ]
  },
  {
   "cell_type": "code",
   "execution_count": 101,
   "id": "f404111f-6867-4443-bae7-e1f7bdafe3c4",
   "metadata": {},
   "outputs": [],
   "source": [
    "upregulated = counts[counts['log_fc'] >= 1].reset_index(drop=True)\n",
    "downregulated = counts[counts['log_fc'] <=-1].reset_index(drop=True)"
   ]
  },
  {
   "cell_type": "code",
   "execution_count": 102,
   "id": "c4ee399b-be3e-4fcc-8bf2-17940de68e8b",
   "metadata": {},
   "outputs": [],
   "source": [
    "upregulated[['gene_name']].drop_duplicates().to_csv('upregulated_gene_names_siLin28a_treated.txt', sep = '\\t', index = None, header = None)\n",
    "upregulated[['protein_id']].drop_duplicates().to_csv('upregulated_pids_siLin28a_treated.txt', sep = '\\t', index = None, header = None)"
   ]
  },
  {
   "cell_type": "code",
   "execution_count": 103,
   "id": "bd10229a-01cc-40ba-b837-635719876a49",
   "metadata": {},
   "outputs": [],
   "source": [
    "downregulated[['gene_name']].drop_duplicates().to_csv('downregulated_gene_names_siLin28a_treated.txt', sep = '\\t', index = None, header = None)\n",
    "downregulated[['protein_id']].drop_duplicates().to_csv('downregulated_pids_siLin28a_treated.txt', sep = '\\t', index = None, header = None)"
   ]
  },
  {
   "cell_type": "markdown",
   "id": "1015143a-2c11-4ee8-80a3-d27b545c040e",
   "metadata": {},
   "source": [
    "## Network propagation"
   ]
  },
  {
   "cell_type": "code",
   "execution_count": 147,
   "id": "0bf98331-0dd5-44cb-8787-aa11010f9f44",
   "metadata": {},
   "outputs": [],
   "source": [
    "np_up = pd.read_csv('binfo_up.txt', sep ='\\t', header = None, names = ['protein_id', 'np_score'])\n",
    "np_up.sort_values(by = 'np_score', ascending = False, inplace = True)\n",
    "np_up = pd.merge(np_up, counts, how='left', on ='protein_id')\n",
    "np_up = np_up.reset_index(drop =True)\n",
    "np_down = pd.read_csv('binfo_down.txt', sep ='\\t', header = None, names = ['protein_id', 'np_score'])\n",
    "np_down.sort_values(by = 'np_score', ascending = False, inplace = True)\n",
    "np_down = np_down.reset_index(drop =True)\n",
    "np_down = pd.merge(np_down, counts, how='left', on ='protein_id')"
   ]
  },
  {
   "cell_type": "code",
   "execution_count": 148,
   "id": "0de889ad-9fdc-445e-be1c-988d05b0af4e",
   "metadata": {},
   "outputs": [],
   "source": [
    "up_seeds = upregulated[['protein_id']].drop_duplicates()\n",
    "up_seeds['seed'] = 1\n",
    "down_seeds =downregulated[['protein_id']].drop_duplicates()\n",
    "down_seeds['seed'] = 1"
   ]
  },
  {
   "cell_type": "code",
   "execution_count": 149,
   "id": "9077ebc9-6a41-47af-8f04-c08bc62c4cfa",
   "metadata": {},
   "outputs": [],
   "source": [
    "np_up = pd.merge(np_up, up_seeds, how ='left', on='protein_id').fillna(0)\n",
    "np_down = pd.merge(np_down, down_seeds, how ='left', on='protein_id').fillna(0)\n",
    "np_up.to_csv('./binfo_np_up.csv', sep =',', index=None)\n",
    "np_down.to_csv('./binfo_np_down.csv', sep =',', index=None)"
   ]
  },
  {
   "cell_type": "markdown",
   "id": "9b8e07e7-e007-4174-9545-fb7725886113",
   "metadata": {},
   "source": [
    "#### Remove seeds"
   ]
  },
  {
   "cell_type": "code",
   "execution_count": 150,
   "id": "e33d3f84-eb5b-4001-80f3-5ce0440e3d82",
   "metadata": {},
   "outputs": [],
   "source": [
    "np_up_no_seed = np_up[np_up['seed']==0].reset_index(drop = True)\n",
    "np_down_no_seed = np_down[np_down['seed']==0].reset_index(drop = True)"
   ]
  },
  {
   "cell_type": "markdown",
   "id": "4f7b9687-8e4b-4c95-b969-535cb2ef2151",
   "metadata": {},
   "source": [
    "#### Crop top 100 genes"
   ]
  },
  {
   "cell_type": "code",
   "execution_count": 151,
   "id": "97a0dc44-aa00-41e8-b9ef-edccd35f30fe",
   "metadata": {},
   "outputs": [],
   "source": [
    "np_up_no_seed_t100 = np_up_no_seed.iloc[:100, :]\n",
    "np_down_no_seed_t100 = np_down_no_seed.iloc[:100, :]\n",
    "np_up_no_seed_t100.to_csv('./binfo_np_up_no_seed_t100.csv', sep =',', index=None)\n",
    "np_down_no_seed_t100.to_csv('./binfo_np_down_no_seed_t100.csv', sep =',', index=None)"
   ]
  },
  {
   "cell_type": "markdown",
   "id": "692c6c96-87c0-42da-99d0-b757443b3f8d",
   "metadata": {},
   "source": [
    "#### Extract subgraph from template network"
   ]
  },
  {
   "cell_type": "code",
   "execution_count": 156,
   "id": "1e65f1cc-4e22-4ad6-ac5f-200bef929591",
   "metadata": {},
   "outputs": [],
   "source": [
    "template_network = pd.read_csv('protein.links.detailed.v11.0.txt.graph_up0.7_revised.txt', header=None, sep='\\t', names=['source', 'target', 'edge'])"
   ]
  },
  {
   "cell_type": "code",
   "execution_count": 168,
   "id": "4ef8ab18-b0b7-4208-ab1e-3669296022f0",
   "metadata": {},
   "outputs": [],
   "source": [
    "temp_genes=pd.concat([np_up[['protein_id']].iloc[:200,:], np_down[['protein_id']].iloc[:200,:]], axis = 0).drop_duplicates().reset_index(drop=True)\n",
    "temp_genes.columns = ['source']\n",
    "temp_network = pd.merge(template_network, temp_genes, how='inner', on ='source')\n",
    "temp_genes.columns = ['target']\n",
    "temp_network = pd.merge(temp_network, temp_genes, how='inner', on ='target')"
   ]
  },
  {
   "cell_type": "code",
   "execution_count": 171,
   "id": "afbacb1e-dd94-4d0d-9466-7d3b5b42ee15",
   "metadata": {},
   "outputs": [],
   "source": [
    "temp_network.to_csv('subnetwork.csv', sep =',', index=None)"
   ]
  }
 ],
 "metadata": {
  "kernelspec": {
   "display_name": "tf",
   "language": "python",
   "name": "tf"
  },
  "language_info": {
   "codemirror_mode": {
    "name": "ipython",
    "version": 3
   },
   "file_extension": ".py",
   "mimetype": "text/x-python",
   "name": "python",
   "nbconvert_exporter": "python",
   "pygments_lexer": "ipython3",
   "version": "3.9.5"
  }
 },
 "nbformat": 4,
 "nbformat_minor": 5
}
